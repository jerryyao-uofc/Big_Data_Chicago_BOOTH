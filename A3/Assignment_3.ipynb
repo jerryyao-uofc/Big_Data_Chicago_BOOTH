{
 "cells": [
  {
   "cell_type": "markdown",
   "metadata": {},
   "source": [
    "# Assignment 3: Model selection and regularization\n",
    "## BUS 20800: Big Data\n",
    "## Due: 11:59 am on Apr 22, 2022"
   ]
  },
  {
   "cell_type": "markdown",
   "metadata": {},
   "source": [
    "----"
   ]
  },
  {
   "cell_type": "markdown",
   "metadata": {},
   "source": [
    "## Part I"
   ]
  },
  {
   "cell_type": "markdown",
   "metadata": {},
   "source": [
    "## Problem 1. **In-Sample and Out-of-Sample Performance**"
   ]
  },
  {
   "cell_type": "markdown",
   "metadata": {},
   "source": [
    "**1. Linear model**\n",
    "\n",
    "Consider a linear regression model with $p$ parameters, fit by least squares to a set of training data $(x_1, y_1), . . . , (x_N, y_N)$ drawn at random from a population. Let $\\hat{\\beta}$ be the least squares estimate. Suppose we have\n",
    "some test data $(\\tilde{x}_1, \\tilde{y}_1), . . . , (\\tilde{x}_M, \\tilde{y}_M)$ drawn at random from the same population as the training data. Set\n",
    "\n",
    "$$L_{train}\\ \\ (\\beta) = \\frac{1}{N}\\sum_{i=1}^N(y_i - \\beta^TX_i)^2\n",
    "$$\n",
    "$$\n",
    "L_{test}\\ \\ (\\beta) = \\frac{1}{M}\\sum_{i = 1}^M(\\tilde{y}_i-\\beta^T\\tilde{X}_i)^2\n",
    "$$\n",
    "\n",
    "Show that\n",
    "$$\n",
    "\\mathbb{E}(L_{train}\\ \\ (\\hat{\\beta})) \\leq \\mathbb{E}(L_{test}\\ \\ (\\hat{\\beta}))\n",
    "$$\n",
    "\n",
    "\n",
    "\n"
   ]
  },
  {
   "cell_type": "markdown",
   "metadata": {},
   "source": [
    "**Answer** :"
   ]
  },
  {
   "cell_type": "markdown",
   "metadata": {},
   "source": [
    "Here, $\\hat{\\beta}$ is the least squares estimator. Thus, for the training sample, the MSE with the least squares estimator must be less than or equal to the MSE with a random $\\beta$ since the regression minimizes deviance.\n",
    "\n",
    "$$\\frac{1}{N}\\sum_{i=1}^{N}(y_{i}-\\hat{\\beta}^{T}X_{i})^{2} \\leq \\frac{1}{N}\\sum_{i=1}^{N}(y_{i}-\\beta^{T}X_{i})^{2} $$\n",
    "\n",
    "We can then take the expected value. Note that the value inside the summmation will be a constant. Summing this N times and dividing by N will just yield that same constant.\n",
    "\n",
    "$$\\mathbb{E}[\\frac{1}{N}\\sum_{i=1}^{N}(y_{i}-\\hat{\\beta}^{T}X_{i})^{2}] = \\mathbb{E}[(y_{i}-\\hat{\\beta}^{T}X_{i})^{2}]$$\n",
    "\n",
    "This implies that when $\\hat{\\beta}$ is the least squares estimator and $\\beta$ is a random column vector\n",
    "\n",
    "$$\\mathbb{E}[(y_{i}-\\hat{\\beta}^{T}X_{i})^{2}] \\leq \\mathbb{E}[(y_{i}-\\beta^{T}X_{i})^{2}] $$\n",
    "\n",
    "This holds for any random vector $\\beta$. Therefore, we can show that since the test data is not identical to the training data the following holds.\n",
    "\n",
    "$$ \\mathbb{E}[(y_{i}-\\hat{\\beta}^{T}X_{i})^{2}] \\leq \\mathbb{E}[(\\tilde{y}_{i}-\\hat{\\beta}^{T}\\tilde{X}_{i})^{2}]$$\n",
    "\n",
    "By the same process of expectations symmetry we used to bypass the summation before, this is identical to\n",
    "\n",
    "$$ \\frac{1}{N}\\sum_{i}^{N}\\mathbb{E}[(y_{i}-\\hat{\\beta}^{T}X_{i})^{2}] \\leq \\frac{1}{M}\\sum_{i}^{M}\\mathbb{E}[(\\tilde{y}_{i}-\\hat{\\beta}^{T}\\tilde{X}_{i})^{2}]$$\n",
    "\n",
    "$$\\mathbb{E}(L_{train}\\ \\ (\\hat{\\beta})) \\leq \\mathbb{E}(L_{test}\\ \\ (\\hat{\\beta}))$$\n"
   ]
  },
  {
   "cell_type": "markdown",
   "metadata": {},
   "source": [
    "## Problem 2. **Ridge Regression and Correlation Screening**"
   ]
  },
  {
   "cell_type": "markdown",
   "metadata": {},
   "source": [
    "**1. Ridge and OLS**\n",
    "\n",
    "Show that the ridge regression estimates can be obtained by OLS on an augmented data set. We augment the centered matrix $X$ with $p$ additional rows $\\sqrt{\\lambda}I$, and augment $y$ with $p$ zeros. By introducing artificial data with response value being zero, the fitting procedure is forced to shrink the coefficients toward zero. \n",
    "\n",
    "**Answer** :\n",
    "\n"
   ]
  },
  {
   "cell_type": "markdown",
   "metadata": {},
   "source": [
    "The estimate of an OLS regression is usually\n",
    "\n",
    "$$ \\hat{\\beta} = (X^{T}X)^{-1}X^{T}y $$\n",
    "\n",
    "Now we have an augmented dataset such that now, $X^{T}X = X^{T}X + \\lambda I$, and since we add p zeros to the column of y, it remains that $X^{T}y = X^{T}y$. The square root on lambda will drop out when we multiply $X^{T}$ by X.\n",
    "\n",
    "$$\\hat{\\beta} = (X^{T}X + \\lambda I)^{-1}X^{T}y $$\n",
    "\n",
    "Given that $\\lambda$ is positive, the term in parenthesis is essentially growing in magnitude. Inverting this matrix will therefore decrease the coefficient. "
   ]
  },
  {
   "cell_type": "markdown",
   "metadata": {},
   "source": [
    "\n",
    "\n",
    "**2. Analytical formula for Ridge**\n",
    "\n",
    "Show that for the ridge problem\n",
    "\n",
    "$$\\hat{\\beta}_{ridge} = argmin _{\\beta}||Y-X\\beta||^2_2 +\\lambda ||\\beta||_2^2\n",
    "$$\n",
    "\n",
    "has the closed form:\n",
    "\n",
    "$$\n",
    "\\hat{\\beta}_{ridge} = (X^TX+\\lambda I_d)^{-1}X^TY\n",
    "$$\n",
    "\n",
    "where $I_d$ is the identity matrix.\n",
    "\n",
    "\n",
    "**Answer**:\n",
    "\n"
   ]
  },
  {
   "cell_type": "markdown",
   "metadata": {},
   "source": [
    "The cost function is \n",
    "\n",
    "$$ C = ||Y-X\\beta||^2_2 +\\lambda ||\\beta||_2^2 $$\n",
    "\n",
    "For any vector v, $||v||_{2}^{2} = v^{T}v$.\n",
    "\n",
    "$$ C = (Y-X\\beta)^{T}(Y-X\\beta) + \\lambda \\beta^{T}\\beta$$\n",
    "\n",
    "$$ C = y^{T}y - \\beta^{T}X^{T}Y - y^{T}X\\beta + \\beta^{T}X^{T}X\\beta + \\lambda \\beta^{T}\\beta$$\n",
    "\n",
    "We then minimize this with respect to $\\beta$. \n",
    "\n",
    "$$\\frac{\\partial C}{\\partial \\beta} = -2y^{T}X + 2X^{T}X\\beta + 2\\lambda\\beta$$\n",
    "\n",
    "Set equal to 0 and rearrange the first term. Since it is a scalar, we can change the order of the matricies and switch what is transposed.\n",
    "\n",
    "$$ 0 = -2X^{T}Y + 2X^{T}X\\beta + 2\\lambda\\beta$$\n",
    "\n",
    "$$ X^{T}Y = (X^{T}X + \\lambda I_{d})\\beta$$\n",
    "\n",
    "$$\\hat{\\beta}_{ridge} = (X^{T}X + \\lambda I_{d})^{-1}X^{T}Y $$\n"
   ]
  },
  {
   "cell_type": "markdown",
   "metadata": {},
   "source": [
    "**3. Ridge and Correlation Screening**\n",
    "\n",
    "Consider a linear regression model $Y=X\\beta+\\varepsilon$, where $y$ is the $n × 1$ response vector, $X$ is the $n × p$ design matrix, $\\beta$ is the $p × 1$ regression coefficient vector, and $\\varepsilon$ is the $n×1$ random error vector with $E(\\varepsilon) = 0$ and $Cov(ε) = \\sigma^2 I_{d}$.\n",
    "\n",
    "Assume each column of $X$ has zero mean and unit variance.\n",
    "\n",
    "Use results of 2.2 to show that when $\\lambda → \\infty$, ridge regression outputs are exactly the correlations used in screening.\n",
    "\n",
    "\n",
    "\n",
    "**Answer**:"
   ]
  },
  {
   "cell_type": "markdown",
   "metadata": {},
   "source": [
    "When $\\lambda→ \\infty$, we know that the term $(X^{T}X + \\lambda I_{d})^{-1}$ will go to 0. We know that typically, $X^{T}X$ is a correlation matrix of independent variables. \n",
    "\n",
    "To make this easier, we can multiply both sides of the ridge regression estimator by $\\lambda$.\n",
    "\n",
    "$$\\lambda \\hat{\\beta} = \\lambda (X^{T}X + \\lambda I_{d})^{-1}X^{T}Y $$\n",
    "\n",
    "Then, we take the limit as $\\lambda → \\infty$. Note that when we do this\n",
    "\n",
    "$$ (X^{T}X + \\lambda I_{d}) → \\lambda $$\n",
    "\n",
    "Lambda will end up dominating will $X^{T}X$, so the whole term within the parentheses approaches $\\lambda I_{d}$\n",
    "\n",
    "$$ \\lambda \\hat{\\beta} = \\lambda(\\lambda I_{d})^{-1}X^{T}Y $$\n",
    "\n",
    "$$\\lambda \\hat{\\beta}  = X^{T}Y$$\n",
    "\n",
    "Here, since there is unit variance, corr(X, Y) = $X^{T}Y$. The result is identical to screening correlations. "
   ]
  },
  {
   "cell_type": "markdown",
   "metadata": {},
   "source": [
    "-----"
   ]
  },
  {
   "cell_type": "markdown",
   "metadata": {},
   "source": [
    "## Part II"
   ]
  },
  {
   "cell_type": "code",
   "execution_count": 2,
   "metadata": {},
   "outputs": [],
   "source": [
    "# Setup codes\n",
    "\n",
    "import pandas as pd\n",
    "import numpy as np\n",
    "import warnings\n",
    "import matplotlib.pyplot as plt\n",
    "plt.rc('font', size=14)\n",
    "import seaborn as sns\n",
    "sns.set(style='white')\n",
    "sns.set(style='whitegrid', color_codes=True)\n",
    "\n",
    "warnings.filterwarnings(\"ignore\")"
   ]
  },
  {
   "cell_type": "markdown",
   "metadata": {},
   "source": [
    "----"
   ]
  },
  {
   "cell_type": "markdown",
   "metadata": {},
   "source": [
    "## Problem 3. **Best Subset, Forward Stepwise and Backward Stepwise Regression**\n",
    "\n"
   ]
  },
  {
   "cell_type": "markdown",
   "metadata": {},
   "source": [
    "In this exercise, we simluate a linear regression problem, and compare selected features based on different methods."
   ]
  },
  {
   "cell_type": "markdown",
   "metadata": {},
   "source": [
    "### Part 1. Data Generating Process"
   ]
  },
  {
   "cell_type": "markdown",
   "metadata": {},
   "source": [
    "Consider a linear regression problem $y = X^T\\beta +\\varepsilon$.  Suppose there are 300 observations on 16 standard Gaussian variables, with pairwise correlations all equal to 0.85. For the first 6 variables, the coefficients are drawn from a $N(0,0.4)$ distribution; the rests are 0. Therefore, the true DGP of $y$ only depends on the first 6 entires of $X$ variables. The noise follows $N(0,6.25)$."
   ]
  },
  {
   "cell_type": "code",
   "execution_count": 3,
   "metadata": {},
   "outputs": [],
   "source": [
    "# DGP, you don't need to modify any codes here.\n",
    "N = 300\n",
    "p = 16\n",
    "rou = 0.85\n",
    "num_signals = 6\n",
    "sigma = np.ones((p,p)) * rou + (1-rou) * np.identity(p)\n",
    "X = np.random.multivariate_normal(np.repeat(0,p), sigma, size = N)\n",
    "X = pd.DataFrame(data = X)\n",
    "beta = np.random.normal(0,0.4,num_signals).tolist()+ np.repeat(0,p-num_signals).tolist()\n",
    "noise = np.random.normal(0,6.25, N)\n",
    "\n",
    "y = X.dot(beta) +noise"
   ]
  },
  {
   "cell_type": "markdown",
   "metadata": {},
   "source": [
    "### Part 2. Compare Three Methods\n",
    "\n"
   ]
  },
  {
   "cell_type": "markdown",
   "metadata": {},
   "source": [
    "Suppose now we want to decide the best regression model with $k$ regressors, for each given $k$, where $k = 1,2,\\cdots, p$, respectively. \n",
    "\n",
    "For best subset selection regression, how many models do you compare? What about forward stepwise and backward stepwise regressions?\n",
    "\n",
    "\n",
    "**Answer**:\n",
    "\n",
    "For best subset selection, there are $2^{k}$ models to compare. Forward stepwise compares $1+k(\\frac{k+1}{2})$ models. Backwards stepwise regression compares the same amount as forwards stepwise. \n"
   ]
  },
  {
   "cell_type": "markdown",
   "metadata": {},
   "source": [
    "Now let's see which model is selected by these three methods for a given $k$ number of regressors, and compare their running time.\n",
    "\n",
    "Please finish Best_subset_selection, Forward_stepwise_selection, Backward_stepwise_selection in Stepwise_simulation.py before you run the following cells. You don't need to modify any codes here."
   ]
  },
  {
   "cell_type": "code",
   "execution_count": 4,
   "metadata": {},
   "outputs": [],
   "source": [
    "from Stepwise_simulation import *"
   ]
  },
  {
   "cell_type": "markdown",
   "metadata": {},
   "source": [
    "The following 3 methods will output the variables it selected with different numbers of regessors, respectively."
   ]
  },
  {
   "cell_type": "code",
   "execution_count": 5,
   "metadata": {},
   "outputs": [
    {
     "data": {
      "application/vnd.jupyter.widget-view+json": {
       "model_id": "06d3949cdb5f460b9ad747eb774eb4c1",
       "version_major": 2,
       "version_minor": 0
      },
      "text/plain": [
       "HBox(children=(HTML(value='Loop...'), FloatProgress(value=0.0, max=15.0), HTML(value='')))"
      ]
     },
     "metadata": {},
     "output_type": "display_data"
    },
    {
     "name": "stdout",
     "output_type": "stream",
     "text": [
      "\n"
     ]
    }
   ],
   "source": [
    "# Best Subset selection\n",
    "# Please finish the codes in Best_subset_selection(X,y,p)\n",
    "df_best,time_best = Best_subset_selection(X,y,p)"
   ]
  },
  {
   "cell_type": "code",
   "execution_count": 6,
   "metadata": {},
   "outputs": [
    {
     "data": {
      "text/plain": [
       "[0.12189102172851562,\n",
       " 0.6084978580474854,\n",
       " 2.3445448875427246,\n",
       " 7.661938905715942,\n",
       " 18.39305281639099,\n",
       " 59.46533513069153,\n",
       " 96.28587985038757,\n",
       " 132.70085406303406,\n",
       " 101.75167512893677,\n",
       " 69.93012619018555,\n",
       " 39.124666929244995,\n",
       " 13.404912233352661,\n",
       " 3.9054110050201416,\n",
       " 0.9366767406463623,\n",
       " 0.10143518447875977]"
      ]
     },
     "execution_count": 6,
     "metadata": {},
     "output_type": "execute_result"
    }
   ],
   "source": [
    "time_best"
   ]
  },
  {
   "cell_type": "code",
   "execution_count": 7,
   "metadata": {},
   "outputs": [
    {
     "data": {
      "text/html": [
       "<div>\n",
       "<style scoped>\n",
       "    .dataframe tbody tr th:only-of-type {\n",
       "        vertical-align: middle;\n",
       "    }\n",
       "\n",
       "    .dataframe tbody tr th {\n",
       "        vertical-align: top;\n",
       "    }\n",
       "\n",
       "    .dataframe thead th {\n",
       "        text-align: right;\n",
       "    }\n",
       "</style>\n",
       "<table border=\"1\" class=\"dataframe\">\n",
       "  <thead>\n",
       "    <tr style=\"text-align: right;\">\n",
       "      <th></th>\n",
       "      <th>numb_features</th>\n",
       "      <th>RSS</th>\n",
       "      <th>R_squared</th>\n",
       "      <th>features</th>\n",
       "    </tr>\n",
       "  </thead>\n",
       "  <tbody>\n",
       "    <tr>\n",
       "      <th>0</th>\n",
       "      <td>1</td>\n",
       "      <td>10927.465002</td>\n",
       "      <td>0.025790</td>\n",
       "      <td>(15,)</td>\n",
       "    </tr>\n",
       "    <tr>\n",
       "      <th>1</th>\n",
       "      <td>2</td>\n",
       "      <td>10845.465222</td>\n",
       "      <td>0.033100</td>\n",
       "      <td>(8, 15)</td>\n",
       "    </tr>\n",
       "    <tr>\n",
       "      <th>2</th>\n",
       "      <td>3</td>\n",
       "      <td>10791.947200</td>\n",
       "      <td>0.037871</td>\n",
       "      <td>(8, 13, 15)</td>\n",
       "    </tr>\n",
       "    <tr>\n",
       "      <th>3</th>\n",
       "      <td>4</td>\n",
       "      <td>10770.106522</td>\n",
       "      <td>0.039818</td>\n",
       "      <td>(8, 9, 13, 15)</td>\n",
       "    </tr>\n",
       "    <tr>\n",
       "      <th>4</th>\n",
       "      <td>5</td>\n",
       "      <td>10744.127042</td>\n",
       "      <td>0.042135</td>\n",
       "      <td>(2, 8, 10, 13, 15)</td>\n",
       "    </tr>\n",
       "    <tr>\n",
       "      <th>5</th>\n",
       "      <td>6</td>\n",
       "      <td>10722.665691</td>\n",
       "      <td>0.044048</td>\n",
       "      <td>(0, 2, 8, 10, 13, 15)</td>\n",
       "    </tr>\n",
       "    <tr>\n",
       "      <th>6</th>\n",
       "      <td>7</td>\n",
       "      <td>10708.588351</td>\n",
       "      <td>0.045303</td>\n",
       "      <td>(0, 2, 3, 8, 10, 13, 15)</td>\n",
       "    </tr>\n",
       "    <tr>\n",
       "      <th>7</th>\n",
       "      <td>8</td>\n",
       "      <td>10692.040617</td>\n",
       "      <td>0.046778</td>\n",
       "      <td>(0, 2, 3, 8, 9, 10, 13, 15)</td>\n",
       "    </tr>\n",
       "    <tr>\n",
       "      <th>8</th>\n",
       "      <td>9</td>\n",
       "      <td>10679.552866</td>\n",
       "      <td>0.047892</td>\n",
       "      <td>(0, 1, 2, 3, 8, 10, 11, 13, 15)</td>\n",
       "    </tr>\n",
       "    <tr>\n",
       "      <th>9</th>\n",
       "      <td>10</td>\n",
       "      <td>10669.209560</td>\n",
       "      <td>0.048814</td>\n",
       "      <td>(0, 1, 2, 3, 8, 9, 10, 11, 13, 15)</td>\n",
       "    </tr>\n",
       "    <tr>\n",
       "      <th>10</th>\n",
       "      <td>11</td>\n",
       "      <td>10659.890601</td>\n",
       "      <td>0.049644</td>\n",
       "      <td>(0, 1, 2, 3, 8, 9, 10, 11, 13, 14, 15)</td>\n",
       "    </tr>\n",
       "    <tr>\n",
       "      <th>11</th>\n",
       "      <td>12</td>\n",
       "      <td>10655.209309</td>\n",
       "      <td>0.050062</td>\n",
       "      <td>(0, 1, 2, 3, 4, 8, 9, 10, 11, 13, 14, 15)</td>\n",
       "    </tr>\n",
       "    <tr>\n",
       "      <th>12</th>\n",
       "      <td>13</td>\n",
       "      <td>10650.767016</td>\n",
       "      <td>0.050458</td>\n",
       "      <td>(0, 1, 2, 3, 4, 8, 9, 10, 11, 12, 13, 14, 15)</td>\n",
       "    </tr>\n",
       "    <tr>\n",
       "      <th>13</th>\n",
       "      <td>14</td>\n",
       "      <td>10646.518524</td>\n",
       "      <td>0.050837</td>\n",
       "      <td>(0, 1, 2, 3, 4, 5, 8, 9, 10, 11, 12, 13, 14, 15)</td>\n",
       "    </tr>\n",
       "    <tr>\n",
       "      <th>14</th>\n",
       "      <td>15</td>\n",
       "      <td>10644.827282</td>\n",
       "      <td>0.050987</td>\n",
       "      <td>(0, 1, 2, 3, 4, 5, 7, 8, 9, 10, 11, 12, 13, 14...</td>\n",
       "    </tr>\n",
       "  </tbody>\n",
       "</table>\n",
       "</div>"
      ],
      "text/plain": [
       "    numb_features           RSS  R_squared  \\\n",
       "0               1  10927.465002   0.025790   \n",
       "1               2  10845.465222   0.033100   \n",
       "2               3  10791.947200   0.037871   \n",
       "3               4  10770.106522   0.039818   \n",
       "4               5  10744.127042   0.042135   \n",
       "5               6  10722.665691   0.044048   \n",
       "6               7  10708.588351   0.045303   \n",
       "7               8  10692.040617   0.046778   \n",
       "8               9  10679.552866   0.047892   \n",
       "9              10  10669.209560   0.048814   \n",
       "10             11  10659.890601   0.049644   \n",
       "11             12  10655.209309   0.050062   \n",
       "12             13  10650.767016   0.050458   \n",
       "13             14  10646.518524   0.050837   \n",
       "14             15  10644.827282   0.050987   \n",
       "\n",
       "                                             features  \n",
       "0                                               (15,)  \n",
       "1                                             (8, 15)  \n",
       "2                                         (8, 13, 15)  \n",
       "3                                      (8, 9, 13, 15)  \n",
       "4                                  (2, 8, 10, 13, 15)  \n",
       "5                               (0, 2, 8, 10, 13, 15)  \n",
       "6                            (0, 2, 3, 8, 10, 13, 15)  \n",
       "7                         (0, 2, 3, 8, 9, 10, 13, 15)  \n",
       "8                     (0, 1, 2, 3, 8, 10, 11, 13, 15)  \n",
       "9                  (0, 1, 2, 3, 8, 9, 10, 11, 13, 15)  \n",
       "10             (0, 1, 2, 3, 8, 9, 10, 11, 13, 14, 15)  \n",
       "11          (0, 1, 2, 3, 4, 8, 9, 10, 11, 13, 14, 15)  \n",
       "12      (0, 1, 2, 3, 4, 8, 9, 10, 11, 12, 13, 14, 15)  \n",
       "13   (0, 1, 2, 3, 4, 5, 8, 9, 10, 11, 12, 13, 14, 15)  \n",
       "14  (0, 1, 2, 3, 4, 5, 7, 8, 9, 10, 11, 12, 13, 14...  "
      ]
     },
     "execution_count": 7,
     "metadata": {},
     "output_type": "execute_result"
    }
   ],
   "source": [
    "df_best"
   ]
  },
  {
   "cell_type": "code",
   "execution_count": 8,
   "metadata": {},
   "outputs": [],
   "source": [
    "# Forward Stepwise selection\n",
    "# Please finish the codes in Forward_stepwise_selection(X,y,p)\n",
    "df_forward, time_forward = Forward_stepwise_selection(X,y,p)"
   ]
  },
  {
   "cell_type": "code",
   "execution_count": 9,
   "metadata": {},
   "outputs": [
    {
     "data": {
      "text/html": [
       "<div>\n",
       "<style scoped>\n",
       "    .dataframe tbody tr th:only-of-type {\n",
       "        vertical-align: middle;\n",
       "    }\n",
       "\n",
       "    .dataframe tbody tr th {\n",
       "        vertical-align: top;\n",
       "    }\n",
       "\n",
       "    .dataframe thead th {\n",
       "        text-align: right;\n",
       "    }\n",
       "</style>\n",
       "<table border=\"1\" class=\"dataframe\">\n",
       "  <thead>\n",
       "    <tr style=\"text-align: right;\">\n",
       "      <th></th>\n",
       "      <th>numb_features</th>\n",
       "      <th>RSS</th>\n",
       "      <th>R_squared</th>\n",
       "      <th>features</th>\n",
       "    </tr>\n",
       "  </thead>\n",
       "  <tbody>\n",
       "    <tr>\n",
       "      <th>0</th>\n",
       "      <td>1</td>\n",
       "      <td>10927.465002</td>\n",
       "      <td>0.025790</td>\n",
       "      <td>[15]</td>\n",
       "    </tr>\n",
       "    <tr>\n",
       "      <th>1</th>\n",
       "      <td>2</td>\n",
       "      <td>10845.465222</td>\n",
       "      <td>0.033100</td>\n",
       "      <td>[15, 8]</td>\n",
       "    </tr>\n",
       "    <tr>\n",
       "      <th>2</th>\n",
       "      <td>3</td>\n",
       "      <td>10791.947200</td>\n",
       "      <td>0.037871</td>\n",
       "      <td>[15, 8, 13]</td>\n",
       "    </tr>\n",
       "    <tr>\n",
       "      <th>3</th>\n",
       "      <td>4</td>\n",
       "      <td>10770.106522</td>\n",
       "      <td>0.039818</td>\n",
       "      <td>[15, 8, 13, 9]</td>\n",
       "    </tr>\n",
       "    <tr>\n",
       "      <th>4</th>\n",
       "      <td>5</td>\n",
       "      <td>10756.147192</td>\n",
       "      <td>0.041063</td>\n",
       "      <td>[15, 8, 13, 9, 2]</td>\n",
       "    </tr>\n",
       "    <tr>\n",
       "      <th>5</th>\n",
       "      <td>6</td>\n",
       "      <td>10728.192370</td>\n",
       "      <td>0.043555</td>\n",
       "      <td>[15, 8, 13, 9, 2, 10]</td>\n",
       "    </tr>\n",
       "    <tr>\n",
       "      <th>6</th>\n",
       "      <td>7</td>\n",
       "      <td>10711.485677</td>\n",
       "      <td>0.045045</td>\n",
       "      <td>[15, 8, 13, 9, 2, 10, 0]</td>\n",
       "    </tr>\n",
       "    <tr>\n",
       "      <th>7</th>\n",
       "      <td>8</td>\n",
       "      <td>10692.040617</td>\n",
       "      <td>0.046778</td>\n",
       "      <td>[15, 8, 13, 9, 2, 10, 0, 3]</td>\n",
       "    </tr>\n",
       "    <tr>\n",
       "      <th>8</th>\n",
       "      <td>9</td>\n",
       "      <td>10680.986523</td>\n",
       "      <td>0.047764</td>\n",
       "      <td>[15, 8, 13, 9, 2, 10, 0, 3, 11]</td>\n",
       "    </tr>\n",
       "    <tr>\n",
       "      <th>9</th>\n",
       "      <td>10</td>\n",
       "      <td>10669.209560</td>\n",
       "      <td>0.048814</td>\n",
       "      <td>[15, 8, 13, 9, 2, 10, 0, 3, 11, 1]</td>\n",
       "    </tr>\n",
       "    <tr>\n",
       "      <th>10</th>\n",
       "      <td>11</td>\n",
       "      <td>10659.890601</td>\n",
       "      <td>0.049644</td>\n",
       "      <td>[15, 8, 13, 9, 2, 10, 0, 3, 11, 1, 14]</td>\n",
       "    </tr>\n",
       "    <tr>\n",
       "      <th>11</th>\n",
       "      <td>12</td>\n",
       "      <td>10655.209309</td>\n",
       "      <td>0.050062</td>\n",
       "      <td>[15, 8, 13, 9, 2, 10, 0, 3, 11, 1, 14, 4]</td>\n",
       "    </tr>\n",
       "    <tr>\n",
       "      <th>12</th>\n",
       "      <td>13</td>\n",
       "      <td>10650.767016</td>\n",
       "      <td>0.050458</td>\n",
       "      <td>[15, 8, 13, 9, 2, 10, 0, 3, 11, 1, 14, 4, 12]</td>\n",
       "    </tr>\n",
       "    <tr>\n",
       "      <th>13</th>\n",
       "      <td>14</td>\n",
       "      <td>10646.518524</td>\n",
       "      <td>0.050837</td>\n",
       "      <td>[15, 8, 13, 9, 2, 10, 0, 3, 11, 1, 14, 4, 12, 5]</td>\n",
       "    </tr>\n",
       "    <tr>\n",
       "      <th>14</th>\n",
       "      <td>15</td>\n",
       "      <td>10644.827282</td>\n",
       "      <td>0.050987</td>\n",
       "      <td>[15, 8, 13, 9, 2, 10, 0, 3, 11, 1, 14, 4, 12, ...</td>\n",
       "    </tr>\n",
       "  </tbody>\n",
       "</table>\n",
       "</div>"
      ],
      "text/plain": [
       "    numb_features           RSS  R_squared  \\\n",
       "0               1  10927.465002   0.025790   \n",
       "1               2  10845.465222   0.033100   \n",
       "2               3  10791.947200   0.037871   \n",
       "3               4  10770.106522   0.039818   \n",
       "4               5  10756.147192   0.041063   \n",
       "5               6  10728.192370   0.043555   \n",
       "6               7  10711.485677   0.045045   \n",
       "7               8  10692.040617   0.046778   \n",
       "8               9  10680.986523   0.047764   \n",
       "9              10  10669.209560   0.048814   \n",
       "10             11  10659.890601   0.049644   \n",
       "11             12  10655.209309   0.050062   \n",
       "12             13  10650.767016   0.050458   \n",
       "13             14  10646.518524   0.050837   \n",
       "14             15  10644.827282   0.050987   \n",
       "\n",
       "                                             features  \n",
       "0                                                [15]  \n",
       "1                                             [15, 8]  \n",
       "2                                         [15, 8, 13]  \n",
       "3                                      [15, 8, 13, 9]  \n",
       "4                                   [15, 8, 13, 9, 2]  \n",
       "5                               [15, 8, 13, 9, 2, 10]  \n",
       "6                            [15, 8, 13, 9, 2, 10, 0]  \n",
       "7                         [15, 8, 13, 9, 2, 10, 0, 3]  \n",
       "8                     [15, 8, 13, 9, 2, 10, 0, 3, 11]  \n",
       "9                  [15, 8, 13, 9, 2, 10, 0, 3, 11, 1]  \n",
       "10             [15, 8, 13, 9, 2, 10, 0, 3, 11, 1, 14]  \n",
       "11          [15, 8, 13, 9, 2, 10, 0, 3, 11, 1, 14, 4]  \n",
       "12      [15, 8, 13, 9, 2, 10, 0, 3, 11, 1, 14, 4, 12]  \n",
       "13   [15, 8, 13, 9, 2, 10, 0, 3, 11, 1, 14, 4, 12, 5]  \n",
       "14  [15, 8, 13, 9, 2, 10, 0, 3, 11, 1, 14, 4, 12, ...  "
      ]
     },
     "execution_count": 9,
     "metadata": {},
     "output_type": "execute_result"
    }
   ],
   "source": [
    "df_forward"
   ]
  },
  {
   "cell_type": "code",
   "execution_count": 10,
   "metadata": {},
   "outputs": [],
   "source": [
    "# Backward Stepwise selection\n",
    "# Please finish the codes in Backward_stepwise_selection(X,y,p)\n",
    "df_backward, time_backward = Backward_stepwise_selection(X,y,p)"
   ]
  },
  {
   "cell_type": "code",
   "execution_count": 11,
   "metadata": {},
   "outputs": [
    {
     "data": {
      "text/html": [
       "<div>\n",
       "<style scoped>\n",
       "    .dataframe tbody tr th:only-of-type {\n",
       "        vertical-align: middle;\n",
       "    }\n",
       "\n",
       "    .dataframe tbody tr th {\n",
       "        vertical-align: top;\n",
       "    }\n",
       "\n",
       "    .dataframe thead th {\n",
       "        text-align: right;\n",
       "    }\n",
       "</style>\n",
       "<table border=\"1\" class=\"dataframe\">\n",
       "  <thead>\n",
       "    <tr style=\"text-align: right;\">\n",
       "      <th></th>\n",
       "      <th>numb_features</th>\n",
       "      <th>RSS</th>\n",
       "      <th>R_squared</th>\n",
       "      <th>features</th>\n",
       "    </tr>\n",
       "  </thead>\n",
       "  <tbody>\n",
       "    <tr>\n",
       "      <th>0</th>\n",
       "      <td>1</td>\n",
       "      <td>10644.827282</td>\n",
       "      <td>0.050987</td>\n",
       "      <td>[6]</td>\n",
       "    </tr>\n",
       "    <tr>\n",
       "      <th>1</th>\n",
       "      <td>2</td>\n",
       "      <td>10646.518524</td>\n",
       "      <td>0.050837</td>\n",
       "      <td>[6, 7]</td>\n",
       "    </tr>\n",
       "    <tr>\n",
       "      <th>2</th>\n",
       "      <td>3</td>\n",
       "      <td>10650.767016</td>\n",
       "      <td>0.050458</td>\n",
       "      <td>[6, 7, 5]</td>\n",
       "    </tr>\n",
       "    <tr>\n",
       "      <th>3</th>\n",
       "      <td>4</td>\n",
       "      <td>10655.209309</td>\n",
       "      <td>0.050062</td>\n",
       "      <td>[6, 7, 5, 12]</td>\n",
       "    </tr>\n",
       "    <tr>\n",
       "      <th>4</th>\n",
       "      <td>5</td>\n",
       "      <td>10659.890601</td>\n",
       "      <td>0.049644</td>\n",
       "      <td>[6, 7, 5, 12, 4]</td>\n",
       "    </tr>\n",
       "    <tr>\n",
       "      <th>5</th>\n",
       "      <td>6</td>\n",
       "      <td>10669.209560</td>\n",
       "      <td>0.048814</td>\n",
       "      <td>[6, 7, 5, 12, 4, 14]</td>\n",
       "    </tr>\n",
       "    <tr>\n",
       "      <th>6</th>\n",
       "      <td>7</td>\n",
       "      <td>10679.552866</td>\n",
       "      <td>0.047892</td>\n",
       "      <td>[6, 7, 5, 12, 4, 14, 9]</td>\n",
       "    </tr>\n",
       "    <tr>\n",
       "      <th>7</th>\n",
       "      <td>8</td>\n",
       "      <td>10693.056258</td>\n",
       "      <td>0.046688</td>\n",
       "      <td>[6, 7, 5, 12, 4, 14, 9, 11]</td>\n",
       "    </tr>\n",
       "    <tr>\n",
       "      <th>8</th>\n",
       "      <td>9</td>\n",
       "      <td>10708.588351</td>\n",
       "      <td>0.045303</td>\n",
       "      <td>[6, 7, 5, 12, 4, 14, 9, 11, 1]</td>\n",
       "    </tr>\n",
       "    <tr>\n",
       "      <th>9</th>\n",
       "      <td>10</td>\n",
       "      <td>10722.665691</td>\n",
       "      <td>0.044048</td>\n",
       "      <td>[6, 7, 5, 12, 4, 14, 9, 11, 1, 3]</td>\n",
       "    </tr>\n",
       "    <tr>\n",
       "      <th>10</th>\n",
       "      <td>11</td>\n",
       "      <td>10744.127042</td>\n",
       "      <td>0.042135</td>\n",
       "      <td>[6, 7, 5, 12, 4, 14, 9, 11, 1, 3, 0]</td>\n",
       "    </tr>\n",
       "    <tr>\n",
       "      <th>11</th>\n",
       "      <td>12</td>\n",
       "      <td>10771.474397</td>\n",
       "      <td>0.039697</td>\n",
       "      <td>[6, 7, 5, 12, 4, 14, 9, 11, 1, 3, 0, 2]</td>\n",
       "    </tr>\n",
       "    <tr>\n",
       "      <th>12</th>\n",
       "      <td>13</td>\n",
       "      <td>10791.947200</td>\n",
       "      <td>0.037871</td>\n",
       "      <td>[6, 7, 5, 12, 4, 14, 9, 11, 1, 3, 0, 2, 10]</td>\n",
       "    </tr>\n",
       "    <tr>\n",
       "      <th>13</th>\n",
       "      <td>14</td>\n",
       "      <td>10845.465222</td>\n",
       "      <td>0.033100</td>\n",
       "      <td>[6, 7, 5, 12, 4, 14, 9, 11, 1, 3, 0, 2, 10, 13]</td>\n",
       "    </tr>\n",
       "    <tr>\n",
       "      <th>14</th>\n",
       "      <td>15</td>\n",
       "      <td>10927.465002</td>\n",
       "      <td>0.025790</td>\n",
       "      <td>[6, 7, 5, 12, 4, 14, 9, 11, 1, 3, 0, 2, 10, 13...</td>\n",
       "    </tr>\n",
       "  </tbody>\n",
       "</table>\n",
       "</div>"
      ],
      "text/plain": [
       "    numb_features           RSS  R_squared  \\\n",
       "0               1  10644.827282   0.050987   \n",
       "1               2  10646.518524   0.050837   \n",
       "2               3  10650.767016   0.050458   \n",
       "3               4  10655.209309   0.050062   \n",
       "4               5  10659.890601   0.049644   \n",
       "5               6  10669.209560   0.048814   \n",
       "6               7  10679.552866   0.047892   \n",
       "7               8  10693.056258   0.046688   \n",
       "8               9  10708.588351   0.045303   \n",
       "9              10  10722.665691   0.044048   \n",
       "10             11  10744.127042   0.042135   \n",
       "11             12  10771.474397   0.039697   \n",
       "12             13  10791.947200   0.037871   \n",
       "13             14  10845.465222   0.033100   \n",
       "14             15  10927.465002   0.025790   \n",
       "\n",
       "                                             features  \n",
       "0                                                 [6]  \n",
       "1                                              [6, 7]  \n",
       "2                                           [6, 7, 5]  \n",
       "3                                       [6, 7, 5, 12]  \n",
       "4                                    [6, 7, 5, 12, 4]  \n",
       "5                                [6, 7, 5, 12, 4, 14]  \n",
       "6                             [6, 7, 5, 12, 4, 14, 9]  \n",
       "7                         [6, 7, 5, 12, 4, 14, 9, 11]  \n",
       "8                      [6, 7, 5, 12, 4, 14, 9, 11, 1]  \n",
       "9                   [6, 7, 5, 12, 4, 14, 9, 11, 1, 3]  \n",
       "10               [6, 7, 5, 12, 4, 14, 9, 11, 1, 3, 0]  \n",
       "11            [6, 7, 5, 12, 4, 14, 9, 11, 1, 3, 0, 2]  \n",
       "12        [6, 7, 5, 12, 4, 14, 9, 11, 1, 3, 0, 2, 10]  \n",
       "13    [6, 7, 5, 12, 4, 14, 9, 11, 1, 3, 0, 2, 10, 13]  \n",
       "14  [6, 7, 5, 12, 4, 14, 9, 11, 1, 3, 0, 2, 10, 13...  "
      ]
     },
     "execution_count": 11,
     "metadata": {},
     "output_type": "execute_result"
    }
   ],
   "source": [
    "df_backward"
   ]
  },
  {
   "cell_type": "code",
   "execution_count": 12,
   "metadata": {},
   "outputs": [
    {
     "data": {
      "image/png": "[encoded data removed]",
      "text/plain": [
       "<Figure size 720x432 with 1 Axes>"
      ]
     },
     "metadata": {},
     "output_type": "display_data"
    }
   ],
   "source": [
    "# Run this cell to visualize the running time. You don't need to modify any codes here.\n",
    "\n",
    "running_time = pd.DataFrame({'Best Subset': np.log(time_best),'Forward Stepwise': np.log(time_forward),'Backward Stepwise': np.log(time_backward)})\n",
    "running_time.index = range(1,16)\n",
    "\n",
    "# Visualize the results\n",
    "running_time.plot(figsize = (10,6))\n",
    "plt.xlabel('Number of features')\n",
    "plt.ylabel('Log running time')\n",
    "plt.show()"
   ]
  },
  {
   "cell_type": "markdown",
   "metadata": {},
   "source": [
    "Based on this plot and these output DataFrames, comment on what you find. \n",
    "\n",
    "\n",
    "**Answer**:\n",
    "First for subset selection: We see that this is parabolic in the number of features. The reason for this is that the selection process goes through n choose 1, n choose 2, n choose 3, until n choose n. n choose 1 is equivalent to n choose n-1, and n choose 2 is equivalent to n choose n-2, etc. Note that in the code, n is denoted as p and we choose k. Therefore, we can observe the parabolic form. \n",
    "$$C(n,r) = \\frac{n!}{(r!(n+r)!)}$$\n",
    "For forward stepwise: We begin with an empty model and add in variables (features) one by one. As more features are added, there is less and less to analyze, therefore decreasing run time. \n",
    "\n",
    "For backward stepwise: We begin with full model (a model that contains all variables under consideration) and then remove the least significant variables (features) one by one. As more features are removed, there is once again less and less to analyze, decreasing run time.\n",
    "\n",
    "From best subset selection, it looks like feature 15 is very important, followed by features 8, 13, and 9. This is confirmed by the forward stepwise process. The backward stepwise process shows that features 6, 7, and 5 are the least important."
   ]
  },
  {
   "cell_type": "markdown",
   "metadata": {},
   "source": [
    "-----"
   ]
  },
  {
   "cell_type": "markdown",
   "metadata": {},
   "source": [
    "## Problem 4. Sparse Signal Recovery\n",
    "\n",
    "In this exercise, we will generate a simulated linear regression problem and use Lasso to see if this method can recover the sparse signals."
   ]
  },
  {
   "cell_type": "markdown",
   "metadata": {},
   "source": [
    "### Part 1. Data Generating Process"
   ]
  },
  {
   "cell_type": "code",
   "execution_count": 151,
   "metadata": {},
   "outputs": [],
   "source": [
    "# DGP, you don't need to modify any codes here\n",
    "\n",
    "np.random.seed(50) # for stability in testing\n",
    "\n",
    "n_samples, n_features = 50, 100\n",
    "num_signal = 10\n",
    "X = np.random.randn(n_samples, n_features)\n",
    "\n",
    "# Construct the signals\n",
    "idx = np.arange(n_features)\n",
    "\n",
    "coef = 5 * np.random.randn(n_features)\n",
    "inds = np.arange(n_features)\n",
    "\n",
    "# Shuffle index and sparsify the signals\n",
    "np.random.shuffle(inds)\n",
    "coef[inds[num_signal:]] = 0\n",
    "\n",
    "# Add noise\n",
    "y = np.dot(X, coef) + 0.01 * np.random.normal(size=n_samples)"
   ]
  },
  {
   "cell_type": "markdown",
   "metadata": {},
   "source": [
    "### Part 2. Fit Lasso for signal recovery"
   ]
  },
  {
   "cell_type": "code",
   "execution_count": 152,
   "metadata": {},
   "outputs": [],
   "source": [
    "# Split data in training set and test set. You don't need to modify any codes here.\n",
    "from sklearn.model_selection import train_test_split\n",
    "from sklearn.linear_model import Lasso, LassoCV, LassoLarsIC\n",
    "\n",
    "X_train,X_test,y_train,y_test = train_test_split(X, y, test_size = 0.4)\n"
   ]
  },
  {
   "cell_type": "markdown",
   "metadata": {},
   "source": [
    "Please finish the following cell to fit Lasso, output a model named lasso, and calculate the OOS R^2: \n",
    "\n"
   ]
  },
  {
   "cell_type": "code",
   "execution_count": 153,
   "metadata": {},
   "outputs": [
    {
     "name": "stdout",
     "output_type": "stream",
     "text": [
      "0.020495741788347736\n",
      "0.940180337522041\n"
     ]
    }
   ],
   "source": [
    "from sklearn.metrics import r2_score\n",
    "from sklearn.linear_model import Lasso\n",
    "\n",
    "##############################################################################\n",
    "### TODO: Fit a lasso model here, and calculate the OOS R square           ###\n",
    "##############################################################################\n",
    "\n",
    "#standardize data\n",
    "from sklearn.preprocessing import StandardScaler\n",
    "\n",
    "#We choose not to scale the data, so this section is commented out\n",
    "\n",
    "#Xscaler = StandardScaler().fit(X_train) \n",
    "#X_train_scaled = Xscaler.transform(X_train)\n",
    "#X_test_scaled = Xscaler.transform(X_test)\n",
    "\n",
    "#change dimensions on y\n",
    "#y_train = y_train[:,np.newaxis]\n",
    "#y_test = y_test[:,np.newaxis]\n",
    "\n",
    "#yscaler = StandardScaler().fit(y_train) \n",
    "#y_train_scaled = yscaler.transform(y_train)\n",
    "#y_test_scaled = yscaler.transform(y_test)\n",
    "\n",
    "# find the best alpha for the lasso regression\n",
    "model = LassoCV(cv=10, random_state = 0, max_iter=10000)\n",
    "model.fit(X_train, y_train)\n",
    "\n",
    "# Show best value of penalization chosen by CV\n",
    "alpha_ = model.alpha_\n",
    "print(alpha_)\n",
    "\n",
    "#fit Lasso Regression\n",
    "lasso_reg = Lasso(max_iter=10000)\n",
    "\n",
    "lasso = lasso_reg.set_params(alpha=alpha_).fit(X_train, y_train)\n",
    "\n",
    "#lasso_y_pred = yscaler.inverse_transform(lasso.predict(X_test_scaled))\n",
    "\n",
    "lasso_y_pred = lasso.predict(X_test)\n",
    "\n",
    "r2score = r2_score(y_test, lasso_y_pred)\n",
    "\n",
    "#stdscale = np.std(X_train)\n",
    "\n",
    "#lasso_coeff_fix = stdscale *lasso.coef_\n",
    "\n",
    "print(r2score)\n",
    "##############################################################################\n",
    "#                               END OF YOUR CODE                             #\n",
    "##############################################################################\n",
    "#print(stdscale)"
   ]
  },
  {
   "cell_type": "markdown",
   "metadata": {},
   "source": [
    "Visualize and compare the results. You don't need to modify any codes here."
   ]
  },
  {
   "cell_type": "code",
   "execution_count": 154,
   "metadata": {},
   "outputs": [
    {
     "data": {
      "image/png": "[encoded data removed]",
      "text/plain": [
       "<Figure size 864x576 with 1 Axes>"
      ]
     },
     "metadata": {},
     "output_type": "display_data"
    }
   ],
   "source": [
    "plt.figure(figsize = (12,8))\n",
    "plt.plot(lasso.coef_, color='gold', linewidth=2, label='Lasso coefficients')\n",
    "plt.plot(coef, '--', color='navy', label='original coefficients')\n",
    "plt.legend(loc='best')\n",
    "\n",
    "plt.show()\n",
    "\n",
    "#post pictures tonight- nearly identical one and this one"
   ]
  },
  {
   "cell_type": "markdown",
   "metadata": {},
   "source": [
    "----"
   ]
  },
  {
   "cell_type": "markdown",
   "metadata": {},
   "source": [
    "## Problem 5. **Track S&P500 index**"
   ]
  },
  {
   "cell_type": "markdown",
   "metadata": {
    "pycharm": {
     "name": "#%% md\n"
    }
   },
   "source": [
    "**Background**: \n",
    "\n",
    "The S&P 500 Index, or Standard & Poor's 500 Index, is a market-capitalization-weighted index of 500 (approximately) leading publicly traded companies in the U.S. It is regarded as one of the best gauges of prominent American equities' performance, and by extension, that of the stock market overall.\n",
    "\n",
    "In this exercise, we consider the daily values of the SP500 index as well as the daily stock prices of 500 major stocks at the same time period.\n"
   ]
  },
  {
   "cell_type": "markdown",
   "metadata": {},
   "source": [
    "\n",
    "**Purpose**:\n",
    "\n",
    "You can't directly invest in the S&P 500 because it's an index. Buying a basket of all component stocks may induce high transaction costs. Instead, one may be interested in a portfolio which contains fewer stocks to track the index."
   ]
  },
  {
   "cell_type": "code",
   "execution_count": 41,
   "metadata": {},
   "outputs": [],
   "source": [
    "%load_ext autoreload\n",
    "%autoreload 2"
   ]
  },
  {
   "cell_type": "code",
   "execution_count": 42,
   "metadata": {},
   "outputs": [],
   "source": [
    "%reload_ext autoreload"
   ]
  },
  {
   "cell_type": "code",
   "execution_count": 43,
   "metadata": {
    "pycharm": {
     "name": "#%%\n"
    }
   },
   "outputs": [],
   "source": [
    "# Load data\n",
    "sp500 = pd.read_csv('./Data/index_track.csv', index_col = 0)\n",
    "sp500 = sp500.set_index('Date')"
   ]
  },
  {
   "cell_type": "markdown",
   "metadata": {},
   "source": [
    "### Part 1.  Construct a parsimonious portfolio \n",
    "\n",
    "Construct a parsimonious portfolio that tracks  the S\\&P500\n",
    "index approximately. "
   ]
  },
  {
   "cell_type": "markdown",
   "metadata": {},
   "source": [
    "Finish the next cell to construct a Portfolio using training set and use Portfolio_visualize to check the OOS performance of this portfolio. \n",
    "\n",
    "Note we do not shuffle data when creating training set and test set on time series data."
   ]
  },
  {
   "cell_type": "code",
   "execution_count": 44,
   "metadata": {
    "scrolled": false
   },
   "outputs": [
    {
     "data": {
      "text/html": [
       "<div>\n",
       "<style scoped>\n",
       "    .dataframe tbody tr th:only-of-type {\n",
       "        vertical-align: middle;\n",
       "    }\n",
       "\n",
       "    .dataframe tbody tr th {\n",
       "        vertical-align: top;\n",
       "    }\n",
       "\n",
       "    .dataframe thead th {\n",
       "        text-align: right;\n",
       "    }\n",
       "</style>\n",
       "<table border=\"1\" class=\"dataframe\">\n",
       "  <thead>\n",
       "    <tr style=\"text-align: right;\">\n",
       "      <th></th>\n",
       "      <th>A</th>\n",
       "      <th>AA</th>\n",
       "      <th>AAPL</th>\n",
       "      <th>ABC</th>\n",
       "      <th>ABT</th>\n",
       "      <th>ACE</th>\n",
       "      <th>ACN</th>\n",
       "      <th>ADBE</th>\n",
       "      <th>ADI</th>\n",
       "      <th>ADM</th>\n",
       "      <th>...</th>\n",
       "      <th>XL</th>\n",
       "      <th>XLNX</th>\n",
       "      <th>XOM</th>\n",
       "      <th>XRAY</th>\n",
       "      <th>XRX</th>\n",
       "      <th>YHOO</th>\n",
       "      <th>YUM</th>\n",
       "      <th>ZION</th>\n",
       "      <th>ZMH</th>\n",
       "      <th>SPX</th>\n",
       "    </tr>\n",
       "    <tr>\n",
       "      <th>Date</th>\n",
       "      <th></th>\n",
       "      <th></th>\n",
       "      <th></th>\n",
       "      <th></th>\n",
       "      <th></th>\n",
       "      <th></th>\n",
       "      <th></th>\n",
       "      <th></th>\n",
       "      <th></th>\n",
       "      <th></th>\n",
       "      <th></th>\n",
       "      <th></th>\n",
       "      <th></th>\n",
       "      <th></th>\n",
       "      <th></th>\n",
       "      <th></th>\n",
       "      <th></th>\n",
       "      <th></th>\n",
       "      <th></th>\n",
       "      <th></th>\n",
       "      <th></th>\n",
       "    </tr>\n",
       "  </thead>\n",
       "  <tbody>\n",
       "    <tr>\n",
       "      <th>2007-09-05</th>\n",
       "      <td>-0.008228</td>\n",
       "      <td>0.001923</td>\n",
       "      <td>-0.051332</td>\n",
       "      <td>-0.012180</td>\n",
       "      <td>0.002714</td>\n",
       "      <td>-0.013518</td>\n",
       "      <td>-0.010397</td>\n",
       "      <td>0.006904</td>\n",
       "      <td>-0.015063</td>\n",
       "      <td>-0.022485</td>\n",
       "      <td>...</td>\n",
       "      <td>-0.012225</td>\n",
       "      <td>-0.005684</td>\n",
       "      <td>-0.000115</td>\n",
       "      <td>0.018416</td>\n",
       "      <td>-0.019744</td>\n",
       "      <td>0.005423</td>\n",
       "      <td>0.000918</td>\n",
       "      <td>-0.000848</td>\n",
       "      <td>-0.015351</td>\n",
       "      <td>-0.011501</td>\n",
       "    </tr>\n",
       "    <tr>\n",
       "      <th>2007-09-06</th>\n",
       "      <td>0.011615</td>\n",
       "      <td>0.000548</td>\n",
       "      <td>-0.012796</td>\n",
       "      <td>0.000638</td>\n",
       "      <td>0.022815</td>\n",
       "      <td>-0.006765</td>\n",
       "      <td>-0.009528</td>\n",
       "      <td>-0.000686</td>\n",
       "      <td>0.011806</td>\n",
       "      <td>0.003329</td>\n",
       "      <td>...</td>\n",
       "      <td>-0.005398</td>\n",
       "      <td>0.002668</td>\n",
       "      <td>0.003096</td>\n",
       "      <td>0.004459</td>\n",
       "      <td>0.014810</td>\n",
       "      <td>0.002075</td>\n",
       "      <td>-0.005501</td>\n",
       "      <td>0.001414</td>\n",
       "      <td>0.029622</td>\n",
       "      <td>0.004252</td>\n",
       "    </tr>\n",
       "    <tr>\n",
       "      <th>2007-09-07</th>\n",
       "      <td>-0.008201</td>\n",
       "      <td>-0.044658</td>\n",
       "      <td>-0.023998</td>\n",
       "      <td>0.000637</td>\n",
       "      <td>-0.019660</td>\n",
       "      <td>-0.019211</td>\n",
       "      <td>-0.012827</td>\n",
       "      <td>-0.017383</td>\n",
       "      <td>-0.030231</td>\n",
       "      <td>-0.013273</td>\n",
       "      <td>...</td>\n",
       "      <td>-0.027006</td>\n",
       "      <td>-0.018624</td>\n",
       "      <td>-0.019888</td>\n",
       "      <td>-0.007152</td>\n",
       "      <td>-0.006421</td>\n",
       "      <td>-0.016149</td>\n",
       "      <td>-0.025507</td>\n",
       "      <td>-0.007061</td>\n",
       "      <td>0.003155</td>\n",
       "      <td>-0.016908</td>\n",
       "    </tr>\n",
       "    <tr>\n",
       "      <th>2007-09-10</th>\n",
       "      <td>-0.004961</td>\n",
       "      <td>-0.023516</td>\n",
       "      <td>0.037490</td>\n",
       "      <td>-0.013800</td>\n",
       "      <td>-0.003471</td>\n",
       "      <td>0.019231</td>\n",
       "      <td>-0.004248</td>\n",
       "      <td>0.006052</td>\n",
       "      <td>0.004102</td>\n",
       "      <td>-0.005197</td>\n",
       "      <td>...</td>\n",
       "      <td>-0.005170</td>\n",
       "      <td>0.002324</td>\n",
       "      <td>-0.010379</td>\n",
       "      <td>0.022851</td>\n",
       "      <td>-0.009401</td>\n",
       "      <td>-0.019360</td>\n",
       "      <td>-0.006938</td>\n",
       "      <td>-0.023752</td>\n",
       "      <td>0.009937</td>\n",
       "      <td>-0.001273</td>\n",
       "    </tr>\n",
       "    <tr>\n",
       "      <th>2007-09-11</th>\n",
       "      <td>0.005817</td>\n",
       "      <td>0.004405</td>\n",
       "      <td>-0.008924</td>\n",
       "      <td>0.011195</td>\n",
       "      <td>0.005418</td>\n",
       "      <td>0.008560</td>\n",
       "      <td>-0.007026</td>\n",
       "      <td>0.012031</td>\n",
       "      <td>0.006536</td>\n",
       "      <td>0.004917</td>\n",
       "      <td>...</td>\n",
       "      <td>0.004376</td>\n",
       "      <td>0.011592</td>\n",
       "      <td>0.024511</td>\n",
       "      <td>-0.025498</td>\n",
       "      <td>0.014235</td>\n",
       "      <td>0.017597</td>\n",
       "      <td>0.012385</td>\n",
       "      <td>0.011655</td>\n",
       "      <td>0.005231</td>\n",
       "      <td>0.013632</td>\n",
       "    </tr>\n",
       "    <tr>\n",
       "      <th>...</th>\n",
       "      <td>...</td>\n",
       "      <td>...</td>\n",
       "      <td>...</td>\n",
       "      <td>...</td>\n",
       "      <td>...</td>\n",
       "      <td>...</td>\n",
       "      <td>...</td>\n",
       "      <td>...</td>\n",
       "      <td>...</td>\n",
       "      <td>...</td>\n",
       "      <td>...</td>\n",
       "      <td>...</td>\n",
       "      <td>...</td>\n",
       "      <td>...</td>\n",
       "      <td>...</td>\n",
       "      <td>...</td>\n",
       "      <td>...</td>\n",
       "      <td>...</td>\n",
       "      <td>...</td>\n",
       "      <td>...</td>\n",
       "      <td>...</td>\n",
       "    </tr>\n",
       "    <tr>\n",
       "      <th>2012-12-24</th>\n",
       "      <td>0.000487</td>\n",
       "      <td>0.005834</td>\n",
       "      <td>0.001614</td>\n",
       "      <td>-0.004125</td>\n",
       "      <td>-0.008781</td>\n",
       "      <td>-0.000250</td>\n",
       "      <td>-0.007120</td>\n",
       "      <td>-0.004773</td>\n",
       "      <td>-0.001896</td>\n",
       "      <td>-0.001440</td>\n",
       "      <td>...</td>\n",
       "      <td>0.010993</td>\n",
       "      <td>-0.003878</td>\n",
       "      <td>-0.003554</td>\n",
       "      <td>-0.006444</td>\n",
       "      <td>-0.009929</td>\n",
       "      <td>0.015504</td>\n",
       "      <td>0.017689</td>\n",
       "      <td>-0.003723</td>\n",
       "      <td>-0.007983</td>\n",
       "      <td>-0.002440</td>\n",
       "    </tr>\n",
       "    <tr>\n",
       "      <th>2012-12-26</th>\n",
       "      <td>-0.004383</td>\n",
       "      <td>0.012761</td>\n",
       "      <td>-0.013781</td>\n",
       "      <td>-0.007823</td>\n",
       "      <td>-0.006262</td>\n",
       "      <td>-0.000625</td>\n",
       "      <td>-0.009710</td>\n",
       "      <td>0.000533</td>\n",
       "      <td>-0.007599</td>\n",
       "      <td>-0.009733</td>\n",
       "      <td>...</td>\n",
       "      <td>-0.002416</td>\n",
       "      <td>-0.003615</td>\n",
       "      <td>0.001726</td>\n",
       "      <td>-0.013470</td>\n",
       "      <td>-0.011461</td>\n",
       "      <td>-0.004071</td>\n",
       "      <td>0.000461</td>\n",
       "      <td>-0.007473</td>\n",
       "      <td>-0.007750</td>\n",
       "      <td>-0.004787</td>\n",
       "    </tr>\n",
       "    <tr>\n",
       "      <th>2012-12-27</th>\n",
       "      <td>-0.006114</td>\n",
       "      <td>-0.012600</td>\n",
       "      <td>0.004017</td>\n",
       "      <td>0.002551</td>\n",
       "      <td>-0.000154</td>\n",
       "      <td>-0.004750</td>\n",
       "      <td>-0.001056</td>\n",
       "      <td>-0.006658</td>\n",
       "      <td>0.002393</td>\n",
       "      <td>0.000728</td>\n",
       "      <td>...</td>\n",
       "      <td>0.000807</td>\n",
       "      <td>-0.001395</td>\n",
       "      <td>-0.002412</td>\n",
       "      <td>-0.004298</td>\n",
       "      <td>-0.015942</td>\n",
       "      <td>0.001533</td>\n",
       "      <td>0.006458</td>\n",
       "      <td>0.000471</td>\n",
       "      <td>0.002253</td>\n",
       "      <td>-0.001218</td>\n",
       "    </tr>\n",
       "    <tr>\n",
       "      <th>2012-12-28</th>\n",
       "      <td>-0.019931</td>\n",
       "      <td>-0.013921</td>\n",
       "      <td>-0.010622</td>\n",
       "      <td>-0.009484</td>\n",
       "      <td>-0.009685</td>\n",
       "      <td>-0.008164</td>\n",
       "      <td>-0.008457</td>\n",
       "      <td>-0.010724</td>\n",
       "      <td>-0.010026</td>\n",
       "      <td>-0.015642</td>\n",
       "      <td>...</td>\n",
       "      <td>-0.004034</td>\n",
       "      <td>-0.013136</td>\n",
       "      <td>-0.020262</td>\n",
       "      <td>-0.009396</td>\n",
       "      <td>-0.014728</td>\n",
       "      <td>-0.005102</td>\n",
       "      <td>-0.011305</td>\n",
       "      <td>-0.006115</td>\n",
       "      <td>-0.017833</td>\n",
       "      <td>-0.011050</td>\n",
       "    </tr>\n",
       "    <tr>\n",
       "      <th>2012-12-31</th>\n",
       "      <td>0.027868</td>\n",
       "      <td>0.021176</td>\n",
       "      <td>0.044317</td>\n",
       "      <td>0.008407</td>\n",
       "      <td>0.016765</td>\n",
       "      <td>0.010510</td>\n",
       "      <td>0.012793</td>\n",
       "      <td>0.021138</td>\n",
       "      <td>0.014227</td>\n",
       "      <td>0.012195</td>\n",
       "      <td>...</td>\n",
       "      <td>0.014986</td>\n",
       "      <td>0.015605</td>\n",
       "      <td>0.017039</td>\n",
       "      <td>0.015381</td>\n",
       "      <td>0.019432</td>\n",
       "      <td>0.020513</td>\n",
       "      <td>0.025958</td>\n",
       "      <td>0.012778</td>\n",
       "      <td>0.017089</td>\n",
       "      <td>0.016942</td>\n",
       "    </tr>\n",
       "  </tbody>\n",
       "</table>\n",
       "<p>1341 rows × 450 columns</p>\n",
       "</div>"
      ],
      "text/plain": [
       "                   A        AA      AAPL       ABC       ABT       ACE  \\\n",
       "Date                                                                     \n",
       "2007-09-05 -0.008228  0.001923 -0.051332 -0.012180  0.002714 -0.013518   \n",
       "2007-09-06  0.011615  0.000548 -0.012796  0.000638  0.022815 -0.006765   \n",
       "2007-09-07 -0.008201 -0.044658 -0.023998  0.000637 -0.019660 -0.019211   \n",
       "2007-09-10 -0.004961 -0.023516  0.037490 -0.013800 -0.003471  0.019231   \n",
       "2007-09-11  0.005817  0.004405 -0.008924  0.011195  0.005418  0.008560   \n",
       "...              ...       ...       ...       ...       ...       ...   \n",
       "2012-12-24  0.000487  0.005834  0.001614 -0.004125 -0.008781 -0.000250   \n",
       "2012-12-26 -0.004383  0.012761 -0.013781 -0.007823 -0.006262 -0.000625   \n",
       "2012-12-27 -0.006114 -0.012600  0.004017  0.002551 -0.000154 -0.004750   \n",
       "2012-12-28 -0.019931 -0.013921 -0.010622 -0.009484 -0.009685 -0.008164   \n",
       "2012-12-31  0.027868  0.021176  0.044317  0.008407  0.016765  0.010510   \n",
       "\n",
       "                 ACN      ADBE       ADI       ADM  ...        XL      XLNX  \\\n",
       "Date                                                ...                       \n",
       "2007-09-05 -0.010397  0.006904 -0.015063 -0.022485  ... -0.012225 -0.005684   \n",
       "2007-09-06 -0.009528 -0.000686  0.011806  0.003329  ... -0.005398  0.002668   \n",
       "2007-09-07 -0.012827 -0.017383 -0.030231 -0.013273  ... -0.027006 -0.018624   \n",
       "2007-09-10 -0.004248  0.006052  0.004102 -0.005197  ... -0.005170  0.002324   \n",
       "2007-09-11 -0.007026  0.012031  0.006536  0.004917  ...  0.004376  0.011592   \n",
       "...              ...       ...       ...       ...  ...       ...       ...   \n",
       "2012-12-24 -0.007120 -0.004773 -0.001896 -0.001440  ...  0.010993 -0.003878   \n",
       "2012-12-26 -0.009710  0.000533 -0.007599 -0.009733  ... -0.002416 -0.003615   \n",
       "2012-12-27 -0.001056 -0.006658  0.002393  0.000728  ...  0.000807 -0.001395   \n",
       "2012-12-28 -0.008457 -0.010724 -0.010026 -0.015642  ... -0.004034 -0.013136   \n",
       "2012-12-31  0.012793  0.021138  0.014227  0.012195  ...  0.014986  0.015605   \n",
       "\n",
       "                 XOM      XRAY       XRX      YHOO       YUM      ZION  \\\n",
       "Date                                                                     \n",
       "2007-09-05 -0.000115  0.018416 -0.019744  0.005423  0.000918 -0.000848   \n",
       "2007-09-06  0.003096  0.004459  0.014810  0.002075 -0.005501  0.001414   \n",
       "2007-09-07 -0.019888 -0.007152 -0.006421 -0.016149 -0.025507 -0.007061   \n",
       "2007-09-10 -0.010379  0.022851 -0.009401 -0.019360 -0.006938 -0.023752   \n",
       "2007-09-11  0.024511 -0.025498  0.014235  0.017597  0.012385  0.011655   \n",
       "...              ...       ...       ...       ...       ...       ...   \n",
       "2012-12-24 -0.003554 -0.006444 -0.009929  0.015504  0.017689 -0.003723   \n",
       "2012-12-26  0.001726 -0.013470 -0.011461 -0.004071  0.000461 -0.007473   \n",
       "2012-12-27 -0.002412 -0.004298 -0.015942  0.001533  0.006458  0.000471   \n",
       "2012-12-28 -0.020262 -0.009396 -0.014728 -0.005102 -0.011305 -0.006115   \n",
       "2012-12-31  0.017039  0.015381  0.019432  0.020513  0.025958  0.012778   \n",
       "\n",
       "                 ZMH       SPX  \n",
       "Date                            \n",
       "2007-09-05 -0.015351 -0.011501  \n",
       "2007-09-06  0.029622  0.004252  \n",
       "2007-09-07  0.003155 -0.016908  \n",
       "2007-09-10  0.009937 -0.001273  \n",
       "2007-09-11  0.005231  0.013632  \n",
       "...              ...       ...  \n",
       "2012-12-24 -0.007983 -0.002440  \n",
       "2012-12-26 -0.007750 -0.004787  \n",
       "2012-12-27  0.002253 -0.001218  \n",
       "2012-12-28 -0.017833 -0.011050  \n",
       "2012-12-31  0.017089  0.016942  \n",
       "\n",
       "[1341 rows x 450 columns]"
      ]
     },
     "execution_count": 44,
     "metadata": {},
     "output_type": "execute_result"
    }
   ],
   "source": [
    "# Based on price information to get stock returns for the index and individual stocks\n",
    "\n",
    "sp500_ret =(sp500/sp500.shift(1)-1).iloc[1:]\n",
    "sp500_ret"
   ]
  },
  {
   "cell_type": "code",
   "execution_count": 45,
   "metadata": {
    "scrolled": true
   },
   "outputs": [],
   "source": [
    "from Index_track import Portfolio_construction\n",
    "w_B, y_true , y_predict = Portfolio_construction(sp500_ret)"
   ]
  },
  {
   "cell_type": "code",
   "execution_count": 46,
   "metadata": {
    "scrolled": false
   },
   "outputs": [
    {
     "name": "stdout",
     "output_type": "stream",
     "text": [
      "(449,)\n",
      "(537,)\n",
      "(537,)\n"
     ]
    }
   ],
   "source": [
    "print(w_B.shape)\n",
    "print(y_true.shape)\n",
    "print(y_predict.shape)"
   ]
  },
  {
   "cell_type": "code",
   "execution_count": 47,
   "metadata": {
    "scrolled": false
   },
   "outputs": [
    {
     "data": {
      "image/png": "[encoded data removed]",
      "text/plain": [
       "<Figure size 864x576 with 1 Axes>"
      ]
     },
     "metadata": {},
     "output_type": "display_data"
    }
   ],
   "source": [
    "from Index_track import Portfolio_visualize\n",
    "Portfolio_visualize(y_true,y_predict )"
   ]
  },
  {
   "cell_type": "markdown",
   "metadata": {},
   "source": [
    "Out of sample Prediction evaluation"
   ]
  },
  {
   "cell_type": "code",
   "execution_count": 48,
   "metadata": {},
   "outputs": [
    {
     "name": "stdout",
     "output_type": "stream",
     "text": [
      "R squared results 0.9734537915116845\n"
     ]
    }
   ],
   "source": [
    "from sklearn.metrics import r2_score\n",
    "print(\"R squared results\", r2_score(y_true, y_predict))"
   ]
  },
  {
   "cell_type": "code",
   "execution_count": 49,
   "metadata": {},
   "outputs": [
    {
     "name": "stdout",
     "output_type": "stream",
     "text": [
      "Mean squared erorr 0.0133863769599937\n"
     ]
    }
   ],
   "source": [
    "from sklearn.metrics import mean_squared_error\n",
    "print(\"Mean squared erorr\", mean_squared_error(y_true, y_predict))"
   ]
  },
  {
   "cell_type": "markdown",
   "metadata": {},
   "source": [
    "**out of sample evalution**\n",
    "\n",
    "Based on the R squared value and Mean Squared error, we see that our prediction does very good job. But based on the graph, we see that our cumulative sum of predicted return is pretty good when the time is closer to the training set; once it gets farther away as time pass, the prediction is no longer as good. "
   ]
  },
  {
   "cell_type": "code",
   "execution_count": 50,
   "metadata": {},
   "outputs": [
    {
     "data": {
      "text/plain": [
       "107"
      ]
     },
     "execution_count": 50,
     "metadata": {},
     "output_type": "execute_result"
    }
   ],
   "source": [
    "np.count_nonzero(w_B)"
   ]
  },
  {
   "cell_type": "markdown",
   "metadata": {},
   "source": [
    "How many stocks have non-zero weights?\n",
    "\n",
    "**Answer**: 107"
   ]
  },
  {
   "cell_type": "code",
   "execution_count": 51,
   "metadata": {},
   "outputs": [],
   "source": [
    "non_zeros_experiment = [ ]\n",
    "alphas = np.arange(0, 3, 0.01, dtype=float)"
   ]
  },
  {
   "cell_type": "code",
   "execution_count": 52,
   "metadata": {},
   "outputs": [],
   "source": [
    "for t in alphas:    \n",
    "    w_B, y_true , y_predict = Portfolio_construction(sp500_ret, alp = t)\n",
    "    non_zeros_experiment.append(np.count_nonzero(w_B))"
   ]
  },
  {
   "cell_type": "code",
   "execution_count": 53,
   "metadata": {
    "scrolled": false
   },
   "outputs": [
    {
     "data": {
      "image/png": "[encoded data removed]",
      "text/plain": [
       "<Figure size 864x576 with 1 Axes>"
      ]
     },
     "metadata": {},
     "output_type": "display_data"
    }
   ],
   "source": [
    "plt.plot(alphas, non_zeros_experiment)\n",
    "plt.xlabel(\"Number of Non-Zero Coefficients\")\n",
    "plt.ylabel(\"Lambda (LASSO Tuning Parameter)\")\n",
    "plt.title(\"Change of number of non-zero coefficeints\")\n",
    "plt.show()"
   ]
  },
  {
   "cell_type": "markdown",
   "metadata": {},
   "source": [
    "Try different tuning parameters to see how this changes the above question. \n",
    "\n",
    "What results do you find when tuning parameter = 0 / $\\infty$?"
   ]
  },
  {
   "cell_type": "markdown",
   "metadata": {},
   "source": [
    "**Answer**:"
   ]
  },
  {
   "cell_type": "markdown",
   "metadata": {},
   "source": [
    "We see the number of non-zero coefficients decrease, just like how the theory would tell us. When we have tuning parameter = 0, all the features carry weight. When we have tuning parameter = $\\infty$, all the features carry 0 weight. "
   ]
  },
  {
   "cell_type": "markdown",
   "metadata": {},
   "source": [
    "### Part 2. Rebalance the portfolio\n",
    "\n",
    "In this exercise, we implement the above portfolio on a rolling window basis. Say, use the first 60-day window to train your model, and use the next 60 day as OOS to check its performance, and continue for the rest of the OOS periods. \n",
    "\n",
    "\n",
    "Finish the codes in Portfolio_rebalance() and run the cell below to construct and evalute this portfolio."
   ]
  },
  {
   "cell_type": "code",
   "execution_count": 54,
   "metadata": {},
   "outputs": [],
   "source": [
    "from Index_track import Portfolio_rebalance"
   ]
  },
  {
   "cell_type": "code",
   "execution_count": 55,
   "metadata": {},
   "outputs": [
    {
     "data": {
      "text/plain": [
       "(1341, 450)"
      ]
     },
     "execution_count": 55,
     "metadata": {},
     "output_type": "execute_result"
    }
   ],
   "source": [
    "sp500_ret.shape"
   ]
  },
  {
   "cell_type": "code",
   "execution_count": 56,
   "metadata": {
    "scrolled": true
   },
   "outputs": [],
   "source": [
    "p_weights, p_performance = Portfolio_rebalance(sp500_ret, 60)"
   ]
  },
  {
   "cell_type": "code",
   "execution_count": 57,
   "metadata": {},
   "outputs": [
    {
     "data": {
      "text/html": [
       "<div>\n",
       "<style scoped>\n",
       "    .dataframe tbody tr th:only-of-type {\n",
       "        vertical-align: middle;\n",
       "    }\n",
       "\n",
       "    .dataframe tbody tr th {\n",
       "        vertical-align: top;\n",
       "    }\n",
       "\n",
       "    .dataframe thead th {\n",
       "        text-align: right;\n",
       "    }\n",
       "</style>\n",
       "<table border=\"1\" class=\"dataframe\">\n",
       "  <thead>\n",
       "    <tr style=\"text-align: right;\">\n",
       "      <th></th>\n",
       "      <th>Predicted Value</th>\n",
       "    </tr>\n",
       "    <tr>\n",
       "      <th>Date</th>\n",
       "      <th></th>\n",
       "    </tr>\n",
       "  </thead>\n",
       "  <tbody>\n",
       "    <tr>\n",
       "      <th>2007-11-29</th>\n",
       "      <td>0.00769613</td>\n",
       "    </tr>\n",
       "    <tr>\n",
       "      <th>2007-11-30</th>\n",
       "      <td>0.433774</td>\n",
       "    </tr>\n",
       "    <tr>\n",
       "      <th>2007-12-03</th>\n",
       "      <td>-0.200211</td>\n",
       "    </tr>\n",
       "    <tr>\n",
       "      <th>2007-12-04</th>\n",
       "      <td>-0.109214</td>\n",
       "    </tr>\n",
       "    <tr>\n",
       "      <th>2007-12-05</th>\n",
       "      <td>0.877912</td>\n",
       "    </tr>\n",
       "    <tr>\n",
       "      <th>...</th>\n",
       "      <td>...</td>\n",
       "    </tr>\n",
       "    <tr>\n",
       "      <th>2012-12-24</th>\n",
       "      <td>-0.114662</td>\n",
       "    </tr>\n",
       "    <tr>\n",
       "      <th>2012-12-26</th>\n",
       "      <td>-0.263349</td>\n",
       "    </tr>\n",
       "    <tr>\n",
       "      <th>2012-12-27</th>\n",
       "      <td>-0.0816848</td>\n",
       "    </tr>\n",
       "    <tr>\n",
       "      <th>2012-12-28</th>\n",
       "      <td>-0.362605</td>\n",
       "    </tr>\n",
       "    <tr>\n",
       "      <th>2012-12-31</th>\n",
       "      <td>0.648089</td>\n",
       "    </tr>\n",
       "  </tbody>\n",
       "</table>\n",
       "<p>1281 rows × 1 columns</p>\n",
       "</div>"
      ],
      "text/plain": [
       "           Predicted Value\n",
       "Date                      \n",
       "2007-11-29      0.00769613\n",
       "2007-11-30        0.433774\n",
       "2007-12-03       -0.200211\n",
       "2007-12-04       -0.109214\n",
       "2007-12-05        0.877912\n",
       "...                    ...\n",
       "2012-12-24       -0.114662\n",
       "2012-12-26       -0.263349\n",
       "2012-12-27      -0.0816848\n",
       "2012-12-28       -0.362605\n",
       "2012-12-31        0.648089\n",
       "\n",
       "[1281 rows x 1 columns]"
      ]
     },
     "execution_count": 57,
     "metadata": {},
     "output_type": "execute_result"
    }
   ],
   "source": [
    "p_performance.dropna()"
   ]
  },
  {
   "cell_type": "code",
   "execution_count": 58,
   "metadata": {},
   "outputs": [
    {
     "data": {
      "image/png": "[encoded data removed]",
      "text/plain": [
       "<Figure size 864x576 with 1 Axes>"
      ]
     },
     "metadata": {},
     "output_type": "display_data"
    }
   ],
   "source": [
    "from Index_track import Portfolio_visualize\n",
    "Portfolio_visualize(y_true,p_performance)"
   ]
  },
  {
   "cell_type": "markdown",
   "metadata": {},
   "source": [
    "How many stocks have the non-zero weight? How stable is your portfolio? \n",
    "\n",
    "**Answer**:"
   ]
  },
  {
   "cell_type": "markdown",
   "metadata": {},
   "source": [
    "We see that our rolling window approach provides a higher protfolio performance than the index return. Performancewise, it fluctuates with in similar trends as the index and is pretty stable. "
   ]
  },
  {
   "cell_type": "code",
   "execution_count": 18,
   "metadata": {},
   "outputs": [
    {
     "data": {
      "text/plain": [
       "592877"
      ]
     },
     "execution_count": 18,
     "metadata": {},
     "output_type": "execute_result"
    }
   ],
   "source": [
    "np.count_nonzero(p_weights)"
   ]
  },
  {
   "cell_type": "code",
   "execution_count": 59,
   "metadata": {},
   "outputs": [
    {
     "name": "stdout",
     "output_type": "stream",
     "text": [
      "299\n"
     ]
    }
   ],
   "source": [
    "non_zero_stock = 0\n",
    "for column in p_weights:\n",
    "  \n",
    "    if np.count_nonzero(p_weights[column].dropna()) >0 :\n",
    "        non_zero_stock = non_zero_stock+1\n",
    "print(non_zero_stock)"
   ]
  },
  {
   "cell_type": "markdown",
   "metadata": {},
   "source": [
    "We see that through out our total iterations of rolling windows, 299 stocks has at least 1 time in our portflio that carries a weight that's non-zero. This makes sense as it implies the returns of the index are mostly driven by the very large stocks, which tends to be true since the S&P is value-weighted."
   ]
  },
  {
   "cell_type": "code",
   "execution_count": null,
   "metadata": {},
   "outputs": [],
   "source": []
  }
 ],
 "metadata": {
  "kernelspec": {
   "display_name": "Python 3",
   "language": "python",
   "name": "python3"
  },
  "language_info": {
   "codemirror_mode": {
    "name": "ipython",
    "version": 3
   },
   "file_extension": ".py",
   "mimetype": "text/x-python",
   "name": "python",
   "nbconvert_exporter": "python",
   "pygments_lexer": "ipython3",
   "version": "3.8.8"
  },
  "toc": {
   "base_numbering": 1,
   "nav_menu": {},
   "number_sections": true,
   "sideBar": true,
   "skip_h1_title": false,
   "title_cell": "Table of Contents",
   "title_sidebar": "Contents",
   "toc_cell": false,
   "toc_position": {},
   "toc_section_display": true,
   "toc_window_display": false
  },
  "varInspector": {
   "cols": {
    "lenName": 16,
    "lenType": 16,
    "lenVar": 40
   },
   "kernels_config": {
    "python": {
     "delete_cmd_postfix": "",
     "delete_cmd_prefix": "del ",
     "library": "var_list.py",
     "varRefreshCmd": "print(var_dic_list())"
    },
    "r": {
     "delete_cmd_postfix": ") ",
     "delete_cmd_prefix": "rm(",
     "library": "var_list.r",
     "varRefreshCmd": "cat(var_dic_list()) "
    }
   },
   "types_to_exclude": [
    "module",
    "function",
    "builtin_function_or_method",
    "instance",
    "_Feature"
   ],
   "window_display": false
  }
 },
 "nbformat": 4,
 "nbformat_minor": 1
}
